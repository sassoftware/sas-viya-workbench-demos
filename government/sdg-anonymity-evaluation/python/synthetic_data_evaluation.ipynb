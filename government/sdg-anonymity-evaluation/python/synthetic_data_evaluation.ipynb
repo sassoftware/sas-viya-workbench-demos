{
 "cells": [
  {
   "cell_type": "code",
   "execution_count": 1,
   "metadata": {},
   "outputs": [],
   "source": [
    "import os\n",
    "import pandas as pd\n",
    "import matplotlib.pyplot as plt\n",
    "import seaborn as sns\n",
    "\n",
    "from pmlb import fetch_data\n",
    "\n",
    "from anonymeter.evaluators import SinglingOutEvaluator\n",
    "from anonymeter.evaluators import LinkabilityEvaluator\n",
    "from anonymeter.evaluators import InferenceEvaluator\n",
    "\n",
    "from utils import SinglingOutPlots # custom class imported from utils.py file"
   ]
  },
  {
   "cell_type": "markdown",
   "metadata": {},
   "source": [
    "# Download Data and Split into Original and Control Set"
   ]
  },
  {
   "cell_type": "markdown",
   "metadata": {},
   "source": [
    "The data used is the Adult Census Income which we will fecth by importing the pmlb library (a wrapper for the Penn Machine Learning Benchmark data repository)."
   ]
  },
  {
   "cell_type": "code",
   "execution_count": 2,
   "metadata": {},
   "outputs": [
    {
     "data": {
      "text/html": [
       "<div>\n",
       "<style scoped>\n",
       "    .dataframe tbody tr th:only-of-type {\n",
       "        vertical-align: middle;\n",
       "    }\n",
       "\n",
       "    .dataframe tbody tr th {\n",
       "        vertical-align: top;\n",
       "    }\n",
       "\n",
       "    .dataframe thead th {\n",
       "        text-align: right;\n",
       "    }\n",
       "</style>\n",
       "<table border=\"1\" class=\"dataframe\">\n",
       "  <thead>\n",
       "    <tr style=\"text-align: right;\">\n",
       "      <th></th>\n",
       "      <th>age</th>\n",
       "      <th>workclass</th>\n",
       "      <th>fnlwgt</th>\n",
       "      <th>education</th>\n",
       "      <th>education-num</th>\n",
       "      <th>marital-status</th>\n",
       "      <th>occupation</th>\n",
       "      <th>relationship</th>\n",
       "      <th>race</th>\n",
       "      <th>sex</th>\n",
       "      <th>capital-gain</th>\n",
       "      <th>capital-loss</th>\n",
       "      <th>hours-per-week</th>\n",
       "      <th>native-country</th>\n",
       "      <th>target</th>\n",
       "    </tr>\n",
       "  </thead>\n",
       "  <tbody>\n",
       "    <tr>\n",
       "      <th>0</th>\n",
       "      <td>39.0</td>\n",
       "      <td>7</td>\n",
       "      <td>77516.0</td>\n",
       "      <td>9</td>\n",
       "      <td>13.0</td>\n",
       "      <td>4</td>\n",
       "      <td>1</td>\n",
       "      <td>1</td>\n",
       "      <td>4</td>\n",
       "      <td>1</td>\n",
       "      <td>2174.0</td>\n",
       "      <td>0.0</td>\n",
       "      <td>40.0</td>\n",
       "      <td>39</td>\n",
       "      <td>1</td>\n",
       "    </tr>\n",
       "    <tr>\n",
       "      <th>1</th>\n",
       "      <td>50.0</td>\n",
       "      <td>6</td>\n",
       "      <td>83311.0</td>\n",
       "      <td>9</td>\n",
       "      <td>13.0</td>\n",
       "      <td>2</td>\n",
       "      <td>4</td>\n",
       "      <td>0</td>\n",
       "      <td>4</td>\n",
       "      <td>1</td>\n",
       "      <td>0.0</td>\n",
       "      <td>0.0</td>\n",
       "      <td>13.0</td>\n",
       "      <td>39</td>\n",
       "      <td>1</td>\n",
       "    </tr>\n",
       "    <tr>\n",
       "      <th>2</th>\n",
       "      <td>38.0</td>\n",
       "      <td>4</td>\n",
       "      <td>215646.0</td>\n",
       "      <td>11</td>\n",
       "      <td>9.0</td>\n",
       "      <td>0</td>\n",
       "      <td>6</td>\n",
       "      <td>1</td>\n",
       "      <td>4</td>\n",
       "      <td>1</td>\n",
       "      <td>0.0</td>\n",
       "      <td>0.0</td>\n",
       "      <td>40.0</td>\n",
       "      <td>39</td>\n",
       "      <td>1</td>\n",
       "    </tr>\n",
       "    <tr>\n",
       "      <th>3</th>\n",
       "      <td>53.0</td>\n",
       "      <td>4</td>\n",
       "      <td>234721.0</td>\n",
       "      <td>1</td>\n",
       "      <td>7.0</td>\n",
       "      <td>2</td>\n",
       "      <td>6</td>\n",
       "      <td>0</td>\n",
       "      <td>2</td>\n",
       "      <td>1</td>\n",
       "      <td>0.0</td>\n",
       "      <td>0.0</td>\n",
       "      <td>40.0</td>\n",
       "      <td>39</td>\n",
       "      <td>1</td>\n",
       "    </tr>\n",
       "    <tr>\n",
       "      <th>4</th>\n",
       "      <td>28.0</td>\n",
       "      <td>4</td>\n",
       "      <td>338409.0</td>\n",
       "      <td>9</td>\n",
       "      <td>13.0</td>\n",
       "      <td>2</td>\n",
       "      <td>10</td>\n",
       "      <td>5</td>\n",
       "      <td>2</td>\n",
       "      <td>0</td>\n",
       "      <td>0.0</td>\n",
       "      <td>0.0</td>\n",
       "      <td>40.0</td>\n",
       "      <td>5</td>\n",
       "      <td>1</td>\n",
       "    </tr>\n",
       "  </tbody>\n",
       "</table>\n",
       "</div>"
      ],
      "text/plain": [
       "    age  workclass    fnlwgt  education  education-num  marital-status  \\\n",
       "0  39.0          7   77516.0          9           13.0               4   \n",
       "1  50.0          6   83311.0          9           13.0               2   \n",
       "2  38.0          4  215646.0         11            9.0               0   \n",
       "3  53.0          4  234721.0          1            7.0               2   \n",
       "4  28.0          4  338409.0          9           13.0               2   \n",
       "\n",
       "   occupation  relationship  race  sex  capital-gain  capital-loss  \\\n",
       "0           1             1     4    1        2174.0           0.0   \n",
       "1           4             0     4    1           0.0           0.0   \n",
       "2           6             1     4    1           0.0           0.0   \n",
       "3           6             0     2    1           0.0           0.0   \n",
       "4          10             5     2    0           0.0           0.0   \n",
       "\n",
       "   hours-per-week  native-country  target  \n",
       "0            40.0              39       1  \n",
       "1            13.0              39       1  \n",
       "2            40.0              39       1  \n",
       "3            40.0              39       1  \n",
       "4            40.0               5       1  "
      ]
     },
     "execution_count": 2,
     "metadata": {},
     "output_type": "execute_result"
    }
   ],
   "source": [
    "df = fetch_data(\"adult\")\n",
    "df.head()"
   ]
  },
  {
   "cell_type": "code",
   "execution_count": 3,
   "metadata": {},
   "outputs": [],
   "source": [
    "num_cols = [\n",
    "    \"age\", \"fnlwgt\", \"capital-gain\",\n",
    "     \"capital-loss\", \"hours-per-week\"\n",
    "]\n",
    "cat_cols = [\n",
    "    \"workclass\", \"education\", \"education-num\",\n",
    "    \"marital-status\", \"occupation\", \"relationship\",\n",
    "    \"race\", \"sex\", \"native-country\", \"target\"\n",
    "]\n",
    "df[cat_cols] = df[cat_cols].astype(\"category\")"
   ]
  },
  {
   "cell_type": "code",
   "execution_count": 4,
   "metadata": {},
   "outputs": [
    {
     "name": "stdout",
     "output_type": "stream",
     "text": [
      "<class 'pandas.core.frame.DataFrame'>\n",
      "RangeIndex: 48842 entries, 0 to 48841\n",
      "Data columns (total 15 columns):\n",
      " #   Column          Non-Null Count  Dtype   \n",
      "---  ------          --------------  -----   \n",
      " 0   age             48842 non-null  float64 \n",
      " 1   workclass       48842 non-null  category\n",
      " 2   fnlwgt          48842 non-null  float64 \n",
      " 3   education       48842 non-null  category\n",
      " 4   education-num   48842 non-null  category\n",
      " 5   marital-status  48842 non-null  category\n",
      " 6   occupation      48842 non-null  category\n",
      " 7   relationship    48842 non-null  category\n",
      " 8   race            48842 non-null  category\n",
      " 9   sex             48842 non-null  category\n",
      " 10  capital-gain    48842 non-null  float64 \n",
      " 11  capital-loss    48842 non-null  float64 \n",
      " 12  hours-per-week  48842 non-null  float64 \n",
      " 13  native-country  48842 non-null  category\n",
      " 14  target          48842 non-null  category\n",
      "dtypes: category(10), float64(5)\n",
      "memory usage: 2.3 MB\n"
     ]
    }
   ],
   "source": [
    "df.info()"
   ]
  },
  {
   "cell_type": "markdown",
   "metadata": {},
   "source": [
    "## Split Data Set\n",
    "\n",
    "Split data frame into **Original** and **Control** sets. The control dataset represents a sample of the original data that is not used to generate the synthetic data.\n",
    "\n",
    "Control Data Set acts as an unbiased privacy risk evaluation. By comparing synthetic data against this dataset we can gauge if the synthetic data generation method is overfitting, and inadvertently exposes unique details of the original dataset.\n",
    "\n",
    "Save original data as a CSV file to be used for synthetic data generation in DataMaker."
   ]
  },
  {
   "cell_type": "code",
   "execution_count": 5,
   "metadata": {},
   "outputs": [],
   "source": [
    "df = df.sample(frac=1, random_state=42).reset_index(drop=True) # shuffle dataframe with seed for repeatability\n",
    "split = round(0.7 * len(df)) # split 70% Orginal, 30% Control\n",
    "df_org = df.iloc[:split,:] \n",
    "df_control = df.iloc[split:,:] "
   ]
  },
  {
   "cell_type": "code",
   "execution_count": 6,
   "metadata": {},
   "outputs": [],
   "source": [
    "df_org.to_csv('data/org_adult_census_data.csv', index =False) # Save data to generate synthetic data"
   ]
  },
  {
   "cell_type": "markdown",
   "metadata": {},
   "source": [
    "# Generating Synthetic Data"
   ]
  },
  {
   "cell_type": "markdown",
   "metadata": {},
   "source": [
    "There are many algorithms to generate synthetic data some common ones are:\n",
    "* Gaussian Mixture Models (GMM)\n",
    "* Tabular Generative Adversarial Networks (GANs)\n",
    "* Synthetic Minority Oversampling Technique (SMOTE)\n",
    "\n",
    "This notebook will not be showing the generation of synthetic data, instead, the generated data is saved as *data/generated.csv and loaded into the notebook. It was generated using the SAS Data Maker which uses SMOTE"
   ]
  },
  {
   "cell_type": "code",
   "execution_count": 7,
   "metadata": {},
   "outputs": [],
   "source": [
    "df_syn = pd.read_csv('data/generated.csv') # change filepath here if synthetic data is saved as a different path\n",
    "df_syn[cat_cols] = df_syn[cat_cols].astype(\"category\")"
   ]
  },
  {
   "cell_type": "code",
   "execution_count": 8,
   "metadata": {},
   "outputs": [
    {
     "name": "stdout",
     "output_type": "stream",
     "text": [
      "<class 'pandas.core.frame.DataFrame'>\n",
      "RangeIndex: 100000 entries, 0 to 99999\n",
      "Data columns (total 15 columns):\n",
      " #   Column          Non-Null Count   Dtype   \n",
      "---  ------          --------------   -----   \n",
      " 0   age             100000 non-null  int64   \n",
      " 1   workclass       100000 non-null  category\n",
      " 2   fnlwgt          100000 non-null  int64   \n",
      " 3   education       100000 non-null  category\n",
      " 4   education-num   100000 non-null  category\n",
      " 5   marital-status  100000 non-null  category\n",
      " 6   occupation      100000 non-null  category\n",
      " 7   relationship    100000 non-null  category\n",
      " 8   race            100000 non-null  category\n",
      " 9   sex             100000 non-null  category\n",
      " 10  capital-gain    100000 non-null  int64   \n",
      " 11  capital-loss    100000 non-null  int64   \n",
      " 12  hours-per-week  100000 non-null  int64   \n",
      " 13  native-country  100000 non-null  category\n",
      " 14  target          100000 non-null  category\n",
      "dtypes: category(10), int64(5)\n",
      "memory usage: 4.8 MB\n"
     ]
    }
   ],
   "source": [
    "df_syn.info()"
   ]
  },
  {
   "cell_type": "markdown",
   "metadata": {},
   "source": [
    "# **Singling Out Attack**"
   ]
  },
  {
   "cell_type": "markdown",
   "metadata": {},
   "source": [
    "\n",
    "## **What is a Singling Out Attack?**\n",
    "A singling-out attack refers to a scenario where an attacker uses specific combinations of attribute values to uniquely identify individuals in a dataset. If the synthetic data retains the statistical properties of the original dataset to such an extent that these attributes can uniquely identify a record in the training data, it increases the risk of compromising individual privacy.\n",
    "\n",
    "### **Mechanism of Singling Out Attacks**\n",
    "1. **Attribute Matching**: The attacker already knows some information about the target individual (e.g., age, gender, location, or occupation), and they use this prior knowledge to filter the dataset for records matching these attributes.\n",
    "\n",
    "2. **Unique Identification**: If the dataset allows combinations of attributes to uniquely identify a single individual (e.g., \"Age = 35, Gender = Male, City = New York\"), the attacker can single out the record corresponding to the target person.\n",
    "\n",
    "3. **Additional Information Discovery**: After identifying the specific record, the attacker can extract other sensitive information associated with the individual in the dataset. For example:\n",
    "\n",
    "    * Financial data (e.g., income, capital gains/losses).\n",
    "    * Behavioral patterns (e.g., hours worked per week).\n",
    "    * Medical history (e.g., diagnosis or treatment details).\n",
    "    * Personal habits or preferences.\n",
    "\n",
    "### **Mitigation Strategies**\n",
    "1. **Data Generalization**: Remove or generalize details of highly identifying attributes (e.g., replacing \"Exact Age\" with \"Age Range\").\n",
    "\n",
    "2. **Data Perturbation**: Add noise to numerical data or shuffle categorical attributes to reduce exact matches.\n",
    "\n",
    "3. **K-Anonymity**: Ensure that each combination of attributes corresponds to at least k individuals, making singling out impossible.\n",
    "\n",
    "### Links\n",
    "* [What a hybrid legal-technical analysis teaches us about privacy regulation: the case of singling out](https://www.bu.edu/jostl/files/2021/06/1-Altman.pdf).\n",
    "* [Towards formalizing the gdpr’s notion of singling out](https://arxiv.org/pdf/1904.06009)"
   ]
  },
  {
   "cell_type": "markdown",
   "metadata": {},
   "source": [
    "## **Privacy Risk**\n",
    "\n",
    "### **Algorithm Explanation**\n",
    "The SinglingOutEvaluator is designed to measure the singling-out risk by analyzing how synthetic data could assist an attacker in identifying records in the original dataset. The algorithm operates as follows:\n",
    "\n",
    "#### **1. Predicate Generation**\n",
    "\n",
    "**Synthetic Data-Based Predicates**\n",
    "\n",
    "Predicates (aka queries in this package) are one or more logical conditions (e.g., \"Age > 30 AND hours-per-week < 20\") generated using the statistical properties of the synthetic dataset.\n",
    "\n",
    "This library has 2 modes of generating predicates:\n",
    "\n",
    "* Univariate Predicates: Based on individual attributes (e.g., \"Gender = Male\").\n",
    "* Multivariate Predicates: Based on combinations of two or more attributes (e.g., \"Age > 30 AND City = New York\").\n",
    "\n",
    "The goal is to create conditions that are likely to match specific records in the original dataset.\n",
    "\n",
    "**Baseline Predicates**\n",
    "\n",
    "Baseline predicates are randomly generated without considering statistical insights from the data, representing the success rate of purely chance-based identification efforts. For instance, a predicate like \"Age > 25\" might be chosen arbitrarily, regardless of its relevance to isolating records. \n",
    "\n",
    "These serve as a control to assess the effectiveness of synthetic data-based predicates. If the synthetic predicates outperform the baseline, it indicates that the synthetic data retains meaningful statistical information. By comparing these, evaluators can measure the additional singling-out risk introduced.\n",
    "\n",
    "#### **2. Validation Against Datasets**\n",
    "\n",
    "**The generated predicates from synthetic data are tested against:**\n",
    "\n",
    "* Original Dataset: To check if the predicates can uniquely identify a single record in the original data.\n",
    "* Control Dataset: A dataset that is not used to generate the synthetic data to act as a comparison.\n",
    "\n",
    "**The randomly generated predicates are tested against:**\n",
    "\n",
    "* Original Dataset: To simulate a random attack without any information from the synthetic data\n",
    "\n",
    "#### **3. Baseline Comparison**\n",
    "\n",
    "The success rate of predicates derived from the synthetic data is compared to a baseline success rate, to determine the added risks of re-identifaction using the statistical properties of the synthetic data. If the predicates generated from synthetic data are more successful at identifying records in the original dataset compared to the baseline, it indicates an increase in singling out risk.\n",
    "\n",
    "*The interpretation of the results can be found below.*"
   ]
  },
  {
   "cell_type": "code",
   "execution_count": 9,
   "metadata": {},
   "outputs": [],
   "source": [
    "columns_to_assess = [\n",
    "    \"age\", \"fnlwgt\",\"hours-per-week\", \"workclass\",\n",
    "    \"education\", \"education-num\", \"marital-status\",\n",
    "    \"occupation\", \"relationship\", \"race\", \n",
    "    \"sex\", \"native-country\"\n",
    "    ]\n",
    "    \n",
    "# The column to assess are based on prior knowledge of the features, \n",
    "# might want to shrink the number of columns to search to reduce evaluation time, \n",
    "# or if some columns are not realistic for attackers to obtain.\n",
    "# For this example we will we will use these for demonstration purposes"
   ]
  },
  {
   "cell_type": "code",
   "execution_count": 10,
   "metadata": {},
   "outputs": [
    {
     "name": "stderr",
     "output_type": "stream",
     "text": [
      "Found 53 failed queries out of 100. Check DEBUG messages for more details.\n"
     ]
    },
    {
     "name": "stdout",
     "output_type": "stream",
     "text": [
      "PrivacyRisk(value=0.21864854517326274, ci=(0.0843446293505716, 0.3529524609959539))\n"
     ]
    }
   ],
   "source": [
    "evaluator = SinglingOutEvaluator(\n",
    "    ori=df_org[columns_to_assess], \n",
    "    syn=df_syn[columns_to_assess], \n",
    "    control=df_control[columns_to_assess],\n",
    "    n_cols = 2, # number of columns for in one predicate, this will be ignored if evaluate(mode='univariate')\n",
    "    n_attacks = 100 # number of predicates to generate.\n",
    ")\n",
    "\n",
    "try:\n",
    "    evaluator.evaluate(mode='multivariate') # mode determines the number of columns to use for predicate. possible values 'univariate' or 'multivariate'\n",
    "    risk = evaluator.risk(confidence_level=0.95)\n",
    "    print(risk)\n",
    "\n",
    "except RuntimeError as e: \n",
    "    print(f\"Singling out evaluation failed with {e}. Please re-run this cell.\"\n",
    "          \"For more stable results increase `n_attacks`. Note that this will \"\n",
    "          \"make the evaluation slower.\")"
   ]
  },
  {
   "cell_type": "markdown",
   "metadata": {},
   "source": [
    "### **Interpretation of Results**\n",
    "Privacy risk measures the additional vulnerability posed by the dataset compared to random guessing or attacks on a control dataset. It accounts for the relative success of the attack, normalized to remove noise or general patterns not specific to the dataset.\n",
    "\n",
    "The risk estimate is accompanied by a confidence interval (at 95% level by default) which accounts for the finite number of attacks performed.\n",
    "* **PrivacyRisk** (value=0.219): The central estimate of privacy risk is approximately 0.00219 (or 21.9%).\n",
    "* **Confidence Interval (CI)**: The range is (0.0843, 0.353), meaning there is a 95% confidence that the true privacy risk lies between 8.43% and 35.3%.\n",
    "\n",
    "**Evaluating the risk level**:\n",
    "\n",
    "It depends on the interpretation of privacy risk and acceptability thresholds for singling out risk.\n",
    "\n",
    "Example: If the organization deems anything under 1% as acceptable.\n",
    "\n",
    "* The point estimate of privacy risk is extremely high (21.9%), indicating that the synthetic data offers low privacy protection.\n",
    "* In the worst-case scenario (upper bound of the CI at ~0.925%), the risk can go up to 35.3%, suggesting a high potential for singling out attacks."
   ]
  },
  {
   "cell_type": "markdown",
   "metadata": {},
   "source": [
    "## **Queries (Predicates) Summary**"
   ]
  },
  {
   "cell_type": "code",
   "execution_count": 11,
   "metadata": {},
   "outputs": [],
   "source": [
    "predicates = evaluator.queries() # Returns all the queries (predicates) which were successful in singing out a record."
   ]
  },
  {
   "cell_type": "code",
   "execution_count": 12,
   "metadata": {},
   "outputs": [
    {
     "data": {
      "text/plain": [
       "['fnlwgt>= 1488189 & relationship==0',\n",
       " 'age>= 87 & education==6',\n",
       " 'fnlwgt<= 13714 & sex==0',\n",
       " 'education==6 & fnlwgt<= 24437',\n",
       " 'fnlwgt>= 1488189 & sex==1',\n",
       " 'fnlwgt>= 549416 & occupation==9',\n",
       " 'education==5 & fnlwgt>= 750941',\n",
       " 'fnlwgt>= 1488189 & occupation==4',\n",
       " 'education==2 & fnlwgt<= 21207',\n",
       " 'fnlwgt>= 1117652 & age<= 23',\n",
       " 'age>= 53 & fnlwgt>= 816677',\n",
       " 'relationship==1 & fnlwgt<= 13714',\n",
       " 'age>= 84 & education==4',\n",
       " 'education==14 & occupation==11',\n",
       " 'occupation==5 & fnlwgt<= 20800',\n",
       " 'fnlwgt>= 1086675 & workclass==5',\n",
       " 'age>= 77 & fnlwgt>= 403926',\n",
       " 'fnlwgt>= 481161 & race==3',\n",
       " 'fnlwgt<= 13008 & age<= 34',\n",
       " 'age>= 83 & education==3',\n",
       " 'age<= 26 & fnlwgt<= 18481',\n",
       " 'workclass==3 & fnlwgt>= 462294',\n",
       " 'fnlwgt>= 932448 & occupation==14',\n",
       " 'age>= 86 & relationship==2',\n",
       " 'relationship==2 & fnlwgt>= 708917',\n",
       " 'age<= 25 & fnlwgt>= 1141526',\n",
       " 'fnlwgt>= 403907 & age>= 80',\n",
       " 'occupation==13 & age<= 17',\n",
       " 'fnlwgt>= 431197 & age>= 76',\n",
       " 'education==10 & occupation==5',\n",
       " 'fnlwgt<= 19763 & education==1',\n",
       " 'occupation==6 & age>= 86',\n",
       " 'fnlwgt<= 19410 & occupation==12',\n",
       " 'relationship==2 & workclass==3',\n",
       " 'occupation==9 & fnlwgt<= 22448',\n",
       " 'age>= 72 & workclass==8']"
      ]
     },
     "execution_count": 12,
     "metadata": {},
     "output_type": "execute_result"
    }
   ],
   "source": [
    "predicates"
   ]
  },
  {
   "cell_type": "markdown",
   "metadata": {},
   "source": [
    "Custom class function written to visualize predicates generated"
   ]
  },
  {
   "cell_type": "code",
   "execution_count": 13,
   "metadata": {},
   "outputs": [],
   "source": [
    "singout_predicate_plots = SinglingOutPlots(\n",
    "    predicates = predicates,\n",
    "    columns = columns_to_assess\n",
    ")"
   ]
  },
  {
   "cell_type": "markdown",
   "metadata": {},
   "source": [
    "Plot the number of predicated for the different combination of columns"
   ]
  },
  {
   "cell_type": "code",
   "execution_count": 14,
   "metadata": {},
   "outputs": [
    {
     "data": {
      "image/png": "[encoded data removed]",
      "text/plain": [
       "<Figure size 640x480 with 1 Axes>"
      ]
     },
     "metadata": {},
     "output_type": "display_data"
    }
   ],
   "source": [
    "singout_predicate_plots.plot_predicate_column_combi_count(title = '')"
   ]
  },
  {
   "cell_type": "markdown",
   "metadata": {},
   "source": [
    "Plot the total number of times a column is used to form a predicate"
   ]
  },
  {
   "cell_type": "code",
   "execution_count": 18,
   "metadata": {},
   "outputs": [
    {
     "data": {
      "image/png": "[encoded data removed]",
      "text/plain": [
       "<Figure size 640x480 with 1 Axes>"
      ]
     },
     "metadata": {},
     "output_type": "display_data"
    }
   ],
   "source": [
    "singout_predicate_plots.plot_predicate_column_count(title = '')"
   ]
  },
  {
   "cell_type": "markdown",
   "metadata": {},
   "source": [
    "We can see all the predicates are using a variable fnlwgt is useful for singling out variables and seems like a potential variable we might want to remove from the dataset.\n",
    "\n",
    "However, fnlwgt is the Final weight of the record. Interpret it as the number of people represented by this row. Hence it's likely there are many unique values from this row for singling out, but in reality, attackers cannot possibly use this value for reidentification.\n",
    "\n",
    "This example shows that domain knowledge needs to be applied when doing evaluation and columns as not all columns, like fnlwgt, should be included during the evaluation."
   ]
  },
  {
   "cell_type": "markdown",
   "metadata": {},
   "source": [
    "## **Success Rate Interpretation**"
   ]
  },
  {
   "cell_type": "code",
   "execution_count": 16,
   "metadata": {},
   "outputs": [
    {
     "name": "stdout",
     "output_type": "stream",
     "text": [
      "Successs rate of main attack: SuccessRate(value=0.365179089748978, error=0.0924668857349347)\n",
      "Successs rate of baseline attack: SuccessRate(value=0.01849674910349284, error=0.01849674910349284)\n",
      "Successs rate of control attack: SuccessRate(value=0.18753474338664675, error=0.07414704332506317)\n"
     ]
    }
   ],
   "source": [
    "res = evaluator.results()\n",
    "\n",
    "print(\"Successs rate of main attack:\", res.attack_rate)\n",
    "print(\"Successs rate of baseline attack:\", res.baseline_rate)\n",
    "print(\"Successs rate of control attack:\", res.control_rate)"
   ]
  },
  {
   "cell_type": "markdown",
   "metadata": {},
   "source": [
    "**Low Singling Out Risk:**\n",
    "\n",
    "If the success rate of predicates derived from the synthetic data is close to or lower than the baseline, the synthetic dataset effectively protects privacy. It suggests that the synthetic data does not disproportionately retain attributes that could be used for identification.\n",
    "\n",
    "\n",
    "**High Singling Out Risk:**\n",
    "\n",
    "If the success rate significantly exceeds the baseline, it indicates that the synthetic data retains too much statistical similarity to the original data. This poses a risk of singling out individuals, compromising their privacy.\n",
    "\n",
    "**Control Data Set Comparison:**\n",
    "\n",
    "The control attack's success rate is close to the main attack suggesting the method for synthetic data generation may generalize well.\n",
    "\n",
    "**Thresholds for Acceptability:**\n",
    "\n",
    "Organizations should define acceptable thresholds for the success rate based on privacy requirements. Results exceeding these thresholds may require further data obfuscation or synthetic data generation techniques to enhance privacy.\n",
    "\n",
    "**Success Rate Calculation**\n",
    "\n",
    "The success rate represents the proportion of successful attacks relative to the total attacks. Each success rate (main, baseline, control) shows:\n",
    "* Point Estimate: The proportion of successes.\n",
    "* Error Bound: The confidence interval for this estimate.\n",
    "\n",
    "**Example**\n",
    "\n",
    "Value: approximately 36.5%\n",
    "* Represents the proportion of successful attacks relative to total attacks.\n",
    "* Indicates the success rate of the primary attack on the dataset.\n",
    "\n",
    "Error: approximately 9.25%\n",
    "* Confidence interval half-width, meaning the actual success rate lies within 36.5%±9.25% (with 95% confidence)."
   ]
  },
  {
   "cell_type": "markdown",
   "metadata": {},
   "source": [
    "# **Anonymter Citation**"
   ]
  },
  {
   "cell_type": "code",
   "execution_count": 17,
   "metadata": {},
   "outputs": [
    {
     "data": {
      "text/plain": [
       "'\\n@misc{anonymeter,\\n  doi = {https://doi.org/10.56553/popets-2023-0055},\\n  url = {https://petsymposium.org/popets/2023/popets-2023-0055.php},\\n  journal = {Proceedings of Privacy Enhancing Technologies Symposium},\\n  year = {2023},\\n  author = {Giomi, Matteo and Boenisch, Franziska and Wehmeyer, Christoph and Tasnádi, Borbála},\\n  title = {A Unified Framework for Quantifying Privacy Risk in Synthetic Data},\\n}\\n'"
      ]
     },
     "execution_count": 17,
     "metadata": {},
     "output_type": "execute_result"
    }
   ],
   "source": [
    "'''\n",
    "@misc{anonymeter,\n",
    "  doi = {https://doi.org/10.56553/popets-2023-0055},\n",
    "  url = {https://petsymposium.org/popets/2023/popets-2023-0055.php},\n",
    "  journal = {Proceedings of Privacy Enhancing Technologies Symposium},\n",
    "  year = {2023},\n",
    "  author = {Giomi, Matteo and Boenisch, Franziska and Wehmeyer, Christoph and Tasnádi, Borbála},\n",
    "  title = {A Unified Framework for Quantifying Privacy Risk in Synthetic Data},\n",
    "}\n",
    "'''"
   ]
  }
 ],
 "metadata": {
  "kernelspec": {
   "display_name": "Python 3",
   "language": "python",
   "name": "python3"
  },
  "language_info": {
   "codemirror_mode": {
    "name": "ipython",
    "version": 3
   },
   "file_extension": ".py",
   "mimetype": "text/x-python",
   "name": "python",
   "nbconvert_exporter": "python",
   "pygments_lexer": "ipython3",
   "version": "3.11.9"
  }
 },
 "nbformat": 4,
 "nbformat_minor": 2
}
